{
 "cells": [
  {
   "cell_type": "markdown",
   "metadata": {},
   "source": [
    "I have finished the extended version of the OSCAR paper and sent it to Silvio.\n",
    "https://github.com/ivanhb/OpenCitations/tree/master/paper/extended_oscar_datascience\n",
    "\n",
    "The main changes made are:\n",
    "* Generating the graphs for the eval section\n",
    "* Extend the WikiData section, with the demo presented at WikiCite2018 \n",
    "* A general review and extending the list of references.⁩\n",
    "\n",
    "---\n",
    "\n",
    "I have finished checking all the papers regarding the 'Citation Function Review' project. \n",
    "\n",
    "---\n",
    "\n",
    "LUCINDA for COCI has been modified for (Self Citations View)\n",
    "Working on making LUCINDA browse a single DOI resource.\n",
    "\n",
    "Note: The new conf files along with the .css modules need to be uploaded on the opencitations website\n",
    "\n",
    "---\n",
    "\n",
    "We made our first meeting regard the DHARC researching center "
   ]
  },
  {
   "cell_type": "code",
   "execution_count": null,
   "metadata": {},
   "outputs": [],
   "source": []
  }
 ],
 "metadata": {
  "kernelspec": {
   "display_name": "Python 3",
   "language": "python",
   "name": "python3"
  },
  "language_info": {
   "codemirror_mode": {
    "name": "ipython",
    "version": 3
   },
   "file_extension": ".py",
   "mimetype": "text/x-python",
   "name": "python",
   "nbconvert_exporter": "python",
   "pygments_lexer": "ipython3",
   "version": "3.6.5"
  }
 },
 "nbformat": 4,
 "nbformat_minor": 2
}
