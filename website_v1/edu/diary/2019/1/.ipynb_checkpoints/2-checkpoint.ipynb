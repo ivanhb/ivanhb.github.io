{
 "cells": [
  {
   "cell_type": "markdown",
   "metadata": {},
   "source": [
    "# January 25:\n",
    "---"
   ]
  },
  {
   "cell_type": "markdown",
   "metadata": {},
   "source": [
    "## CROCI and The Open Citations project for ISSI-2019"
   ]
  },
  {
   "cell_type": "markdown",
   "metadata": {},
   "source": [
    "We want to make an analysis on the number of citations for the different DOI categories. We have classified the DOI resources into five classes: Journal, Book, Proceedings, Dataset, Other. \n",
    "The citations count are taken from two different sources:\n",
    "1. COCI: those are open citations made available and retrieved from the COCI dataset. In this case the citations are counted through the analysis of DOIs that have an open reference-list.\n",
    "2. Crossref: the number of citations given by Crossref. In this case the total count includes also citations made from closed resources which do not publish there reference list: closed citations. \n",
    "\n",
    "These values are compared in the chart bellow.\n"
   ]
  },
  {
   "cell_type": "markdown",
   "metadata": {},
   "source": [
    "<img style=\"float:left\" src=\"img/cits_by_type.png\" width=\"850\"/>"
   ]
  },
  {
   "cell_type": "markdown",
   "metadata": {},
   "source": [
    "Taken in consideration the same previous sources as a citation count value, we wanted to classify the number of citations for each different publisher. Our processing workflow is described as follow:\n",
    "1.  Firstly, we took as input the COCI dataset and collected all the DOI prefixes we have: the DOI prefix indicates the publisher. \n",
    "2. We used the Crossref API to get the publisher name of each different DOI prefix. e.g: http://api.crossref.org/prefixes/10.3129 \n",
    "3. For each different publisher we counted the number of citations ‘Open in COCI’ and ‘Close in Crossref’ for all its related DOIs\n"
   ]
  },
  {
   "cell_type": "markdown",
   "metadata": {},
   "source": [
    "<img style=\"float:left\" src=\"img/20publishers_cits.png\" width=\"850\"/>"
   ]
  },
  {
   "cell_type": "markdown",
   "metadata": {},
   "source": [
    "Here we wanted to generate a .csv file containing the number of: open,limited, and closed, DOI resources having a reference list.  \n",
    "To retrieve such data we used the Crossref API. For instance, the following call retrieves the number of 'closed' items having a reference list and 'Elsevir' as there publisher.     \n",
    "http://api.crossref.org/members/78/works?filter=has-references:true,reference-visibility:closed\n",
    "\n",
    "First of all we need to retrieve the Crossref ‘member’ ID for each DOI-Prefix of a given publisher. Then we will call the previous API call with the corresponding ‘member’ ID and for the three types of reference visibility: open, limited, closed. \n"
   ]
  },
  {
   "cell_type": "markdown",
   "metadata": {},
   "source": [
    "<img style=\"float:left\" src=\"img/20publishers_cr.png\" width=\"850\"/>"
   ]
  },
  {
   "cell_type": "markdown",
   "metadata": {},
   "source": [
    "---\n",
    "## LUCINDA new Addition (In progress ...) "
   ]
  },
  {
   "cell_type": "markdown",
   "metadata": {},
   "source": [
    "The next step we would like to do on is to browse and configure LUCINDA in OpenCitations show all the informations we have regarding a specific DOI.  \n",
    "This will also be done by showing the infos through new graphics and charts.  \n",
    "The last additions on LUCINDA I have made let us call external API services and select the information we want to add on the browsing page. On the configuration file it will be also possibile to decide how to show this new data retrieved, currently 2 views are supported: **Bars chart** ,and  **Regular label**.  "
   ]
  },
  {
   "cell_type": "markdown",
   "metadata": {},
   "source": [
    "<img style=\"float:left\" src=\"img/lucinda_add.png\" width=\"650\"/>"
   ]
  },
  {
   "cell_type": "markdown",
   "metadata": {},
   "source": [
    "The above chart is created by adding these code lines in the configuration file: "
   ]
  },
  {
   "cell_type": "markdown",
   "metadata": {},
   "source": [
    "```\n",
    "\"ext_sources\": [\n",
    "                  {\n",
    "                    'name': 'oc_ramose',\n",
    "                    'id': 'cits_in_time',\n",
    "                    'call': 'http://opencitations.net/index/coci/api/v1/citations/[[?doi]]',\n",
    "                    'format': 'json',\n",
    "                    'handle': oc_ramose_handle_dates,\n",
    "                    'targets': 'view.[[coci_cits_in_time]]'\n",
    "                  },\n",
    "                  ...\n",
    "                ]\n",
    "```"
   ]
  },
  {
   "cell_type": "markdown",
   "metadata": {},
   "source": [
    "```handle``` addresses the callback function which handles the results retrieved.  \n",
    "```targets``` addresses the html content which will show the results (after processing them through the ```handle``` function). In this case the html content ```view.[[coci_cits_in_time]]``` is defined later as follow:"
   ]
  },
  {
   "cell_type": "markdown",
   "metadata": {},
   "source": [
    "```\n",
    "\"contents\":{\n",
    "                  \"header\": [\n",
    "                      ...\n",
    "                  ],\n",
    "                  \"view\": [\n",
    "                              {\n",
    "                                  'type': 'chart',\n",
    "                                  'id': 'coci_cits_in_time',\n",
    "                                  'class': 'coci-cits-in-time',\n",
    "                                  'style': 'bars',\n",
    "                                  'label': 'Number of Citations in COCI',\n",
    "                                  'data': {'x':'date', 'y':'count'},\n",
    "                                  'background_color': 'random',\n",
    "                                  'border_color': 'random',\n",
    "                                  'borderWidth': 1,\n",
    "                              }\n",
    "                              ...\n",
    "                  ]\n",
    "              }```"
   ]
  },
  {
   "cell_type": "code",
   "execution_count": null,
   "metadata": {},
   "outputs": [],
   "source": []
  }
 ],
 "metadata": {
  "kernelspec": {
   "display_name": "Python 3",
   "language": "python",
   "name": "python3"
  },
  "language_info": {
   "codemirror_mode": {
    "name": "ipython",
    "version": 3
   },
   "file_extension": ".py",
   "mimetype": "text/x-python",
   "name": "python",
   "nbconvert_exporter": "python",
   "pygments_lexer": "ipython3",
   "version": "3.6.5"
  }
 },
 "nbformat": 4,
 "nbformat_minor": 2
}
