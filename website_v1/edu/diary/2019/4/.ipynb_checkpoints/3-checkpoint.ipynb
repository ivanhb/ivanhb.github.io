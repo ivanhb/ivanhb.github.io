{
 "cells": [
  {
   "cell_type": "markdown",
   "metadata": {},
   "source": [
    "# April 19:\n",
    "---"
   ]
  },
  {
   "cell_type": "markdown",
   "metadata": {},
   "source": [
    "## OSCAR and LUCINDA in Opencitations\n",
    "\n",
    "We have integrated OSCAR and LUCINDA into the OpenCitations Website. We did some modifications on the LUCINDA configuration regarding the INDEX resources, such that it now shows the citing and cited entity values full references under the main header."
   ]
  },
  {
   "cell_type": "markdown",
   "metadata": {},
   "source": [
    "## The CATARSI tool\n",
    "We discussed the CATARSI project, until now everything which have been made look fine. We might think about adopting a new type of tool named ’Terminal’ (for the visualisation and data extraction tools): a possible solution is to visualise the current ’tool' node in a different Color.  \n",
    "I have given the tool I am developing the name **DIPAM: a Dashboard Interface for Python-based Applications Mashup**. And this is its current logo, I have designed for it:  \n",
    "<img src=\"img/logo.svg\" width=\"35%\"> \n",
    "I am up for other suggestions anyway.\n",
    "\n",
    "\n",
    "### DIPAM new features \n",
    "#### Editing/Removing diagram elements\n",
    "it’s possible to define the attributes of each type of node (tool/data) added into the diagram, and select the attributes which could be edited. For instance, the ’tool’ nodes have currently two attributes: name, and type. Both these values are editable. This screenshot shows how this operation is accomplished from the tool interface.\n",
    "\n",
    "<div width=\"100%\" height=\"1500px\">\n",
    "<img src=\"img/t0.png\" width=\"44%\">\n",
    "<img src=\"img/t1.png\" width=\"43%\">\n",
    "<img src=\"img/t2.png\" width=\"43%\">\n",
    "</div>\n",
    "\n",
    "\n",
    "#### Compatibility adaption\n",
    "The nodes in the graph couldn’t be connected freely, since they should respect the compatible inputs of each other different node in the graph. When selecting a node: x, the graph will color the compatible nodes which could be connected with x (the output of x will become the input of the connected nodes).  The following screenshot shows what happens when selecting a node (’Textual data (d1)’) in the graph: in this case both ‘Filter names (t1)’ and ’Topic modelling (t2)’ are available nodes to be connected with, while ‘View bar chart (t3)’ is not available. In case a giving node gets modified, its adaptability view will be updated. \n",
    "\n",
    "<img src=\"img/a.png\" width=\"70%\">\n"
   ]
  },
  {
   "cell_type": "code",
   "execution_count": null,
   "metadata": {},
   "outputs": [],
   "source": []
  }
 ],
 "metadata": {
  "kernelspec": {
   "display_name": "Python 3",
   "language": "python",
   "name": "python3"
  },
  "language_info": {
   "codemirror_mode": {
    "name": "ipython",
    "version": 3
   },
   "file_extension": ".py",
   "mimetype": "text/x-python",
   "name": "python",
   "nbconvert_exporter": "python",
   "pygments_lexer": "ipython3",
   "version": "3.6.5"
  }
 },
 "nbformat": 4,
 "nbformat_minor": 2
}
