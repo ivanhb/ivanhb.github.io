{
 "cells": [
  {
   "cell_type": "markdown",
   "metadata": {},
   "source": [
    "# June 21:\n",
    "---"
   ]
  },
  {
   "cell_type": "markdown",
   "metadata": {},
   "source": [
    "## The CATARSI meeting\n",
    "This was our last meeting before our conference in Lisbona. We mainly focused on installing MATAO on Windows and Mac, we have face three type of problems:\n",
    "* Regarding the python libraries: \n",
    "    * The “pdftotext” library appeared to be a tough one to install, since it require “gcc” which makes it difficult to integrate in operating system that lack the presence of “gcc”, plus installing it could take a lot of time and slow performances.  -> We have decided to move on another library which does the same job without the need of “gcc” or other major requirements.\n",
    "    * The nltk corpus, and tokeniser must be downloaded and included in the text file of the pip installations needed. This process needs a lot of time but its necessary. \n",
    "* Regarding the bash files of windows: \n",
    "    * We could not manage to execute the entire bash file, the line terminals are defined differently in windows\n",
    "* MATAO problems:\n",
    "    * The shutdown button is not working correctly\n",
    "    * Matplotlib creates many threads which make some systems stop MATAO as the number of maximum threads in memory is reached \n",
    "    * MATAO should run only with Chrome, right now it opens the default browser of the hosting system\n",
    "    * The regular expressions performances are low, this aspect need a further analysis\n",
    "    * The name MATAO looks an suitable, since it means “lazy worker” in the Portoghese language.  \n",
    " \n",
    "\n",
    "## MATAO modifications\n",
    "Taking in consideration all the problems we have faced during the CATARSI meeting, I have applied some adjustments to MATAO, the main points are:\n",
    "* Instead of “pdftotext” we will use “pdfminer” which works perfectly without the need of “gcc\"\n",
    "* The shutdown button works\n",
    "* The new name of MATAO is MITAO now: a Mashup Interface for Text Analysis Operations.\n",
    "* After running and creating the charts with “Matplotlib” all the threads created are killed \n",
    "* MITAO will redirect the user to Chrome after its initialisation \n",
    "* The regular expressions having the “DOT_ALL” flag have slow performances, I changed this behaviour into a more simple RowXRow iteration over the textual input. \n",
    "\n",
    "## The ISWS Poster\n",
    "I have finished and uploaded the poster I am going to present at the ISWS summer school. [The Poster](../../../../activities/ISWS\\(summer_schooll\\)/poster.pdf) \n"
   ]
  },
  {
   "cell_type": "code",
   "execution_count": null,
   "metadata": {},
   "outputs": [],
   "source": []
  }
 ],
 "metadata": {
  "kernelspec": {
   "display_name": "Python 3",
   "language": "python",
   "name": "python3"
  },
  "language_info": {
   "codemirror_mode": {
    "name": "ipython",
    "version": 3
   },
   "file_extension": ".py",
   "mimetype": "text/x-python",
   "name": "python",
   "nbconvert_exporter": "python",
   "pygments_lexer": "ipython3",
   "version": "3.7.3"
  }
 },
 "nbformat": 4,
 "nbformat_minor": 2
}
