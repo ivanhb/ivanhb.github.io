{
 "cells": [
  {
   "cell_type": "markdown",
   "metadata": {},
   "source": [
    "# June 7:\n",
    "---"
   ]
  },
  {
   "cell_type": "markdown",
   "metadata": {},
   "source": [
    "## The last Catarsi meeting\n",
    "Together with Luca we have tested the current version of DIPAM, and analysed what should be improved and further reanalysed: \n",
    "* The number of topics parameter must be something a user can insert freely, and should not be selectable from a dropdown option list.\n",
    "* As default filters we don’t need the ‘Footnotes’ option. Whether, it could be very useful to filter and removes the article header and its list of references.\n",
    "* Since the simple users don’t usually have experience on the Regular Expression rules it could be good to add an external link to guideline or a demo for it.\n",
    "* As we will move soon to the visualisation of the LDA topics, one very useful and dynamic library to use is ```pyLDAvis```. https://www.machinelearningplus.com/nlp/topic-modeling-gensim-python/ (on the visualisation section)  "
   ]
  },
  {
   "cell_type": "markdown",
   "metadata": {},
   "source": [
    "## DIPAM new Additions\n",
    "* The first point of the CATARSI meeting\n",
    "* The second point of the CATARSI meeting. Although, I still have to find a way to correctly detect through Regex the References and the Header of the articles.\n",
    "* The third point of the CATARSI meeting.\n",
    "* I have fixed a major important problem regarding the browser inner cache for the downloading links used with DIPAM\n",
    "* When selecting the type of Tool or Data for the Item just added users will view the options under their corresponding headers. Take a look at the following screenshots:\n",
    "<img src=\"img/1.png\" width=\"40%\"><img src=\"img/2.png\" width=\"40%\">\n",
    "* Two new tools of visualisations have been added: \"Visualize topics words” and \"Visualize document topics”. Here we show a preview of both:\n",
    "<img src=\"img/4.png\" width=\"60%\"><img src=\"img/5.png\" width=\"100%\">\n",
    "* I still need to find a way to make ```pyLDAvis``` run. Since it’s really a useful and dynamic interface for LDA Topic Modelling problems."
   ]
  }
 ],
 "metadata": {
  "kernelspec": {
   "display_name": "Python 3",
   "language": "python",
   "name": "python3"
  },
  "language_info": {
   "codemirror_mode": {
    "name": "ipython",
    "version": 3
   },
   "file_extension": ".py",
   "mimetype": "text/x-python",
   "name": "python",
   "nbconvert_exporter": "python",
   "pygments_lexer": "ipython3",
   "version": "3.6.5"
  }
 },
 "nbformat": 4,
 "nbformat_minor": 2
}
