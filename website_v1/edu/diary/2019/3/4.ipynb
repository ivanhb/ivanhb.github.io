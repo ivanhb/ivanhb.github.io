{
 "cells": [
  {
   "cell_type": "markdown",
   "metadata": {},
   "source": [
    "# March 22:\n",
    "---"
   ]
  },
  {
   "cell_type": "markdown",
   "metadata": {},
   "source": [
    "## COCI paper for ISWC\n",
    "After last week meeting with Silvio, we decided to make the following list of changes on the ISWC paper regarding COCI: \n",
    "* The data-model scheme used for CiTO should be changed to the new one  \n",
    "* Give less descriptions about CiTO and all the changes made  \n",
    "* Don’t mention the CiTO changes that have no relevance with the COCI project  \n",
    "* Check the list of projects that use COCI from the last Skype message of Silvio : “Community uptake\". Discuss a bit each one of these projects\n",
    "* Cite the CROCI project in the \"Conclusions\" section\n",
    "* Change the workflow scheme into an UML version, and add a \"Phase 4\": updating the triplestore\"\n",
    "* Do another check on the datasets mentioned in the related-works \n",
    "* Write all the \"Usage\" section\n",
    "\n",
    "All the previous points have been taken in consideration, and the paper has been modified accordingly:\n",
    "* **The Workflow scheme:**\n",
    "\n",
    "<img src=\"https://ivanhb.github.io/phd/paper/coci_iswc2019/img/grflow(prov).png\" width=\"950\">\n",
    "\n",
    "* **The graphics used in the \"Quantitative analysis\" section**\n",
    "\n",
    "<img src=\"https://ivanhb.github.io/phd/paper/coci_iswc2019/img/chart_gen.png\" width=\"950\">\n",
    "\n",
    "<img src=\"https://ivanhb.github.io/phd/paper/coci_iswc2019/img/chart_restapi.png\" width=\"950\">\n",
    "\n",
    "\n",
    "* **All the data/stats and scripts used in the paper have been uploaded on figshare at https://figshare.com/articles/Usage_stats_of_COCI_in_OpenCitations/7873559** "
   ]
  },
  {
   "cell_type": "markdown",
   "metadata": {},
   "source": [
    "## OSCAR and LUCINDA modifications (index, coci, and croci)\n",
    "* **OSCAR is now under ISC License (ISC)**\n",
    "* I have started applying some modifications to the OSCAR code regarding its adaption to COCI, CROCI. Some main issues have been fixed, although still other minor issues should be fixed before upgrading these new versions on the OpenCitations website. \n",
    "* OSCAR and LUCINDA inner files and folders have been changed into a new organization which makes them easier to use/integrate for other services. For instance, OSCAR could be added to any page by placing the following tag:\n",
    "\n",
    "```<div class=\"cover __oscar__\" type=\"advanced\" view_op=\"rows_per_page export_results sort_results\" filter_op=\"limit_results filter_fields\"></div>```"
   ]
  },
  {
   "cell_type": "markdown",
   "metadata": {},
   "source": [
    "## COCI repository\n",
    "The inner organization of the repository has been changed, mainly some old (not useful) scripts have been deleted. In addition I changed the intro README of the repository, adding some descriptions/info on COCI.  "
   ]
  },
  {
   "cell_type": "code",
   "execution_count": null,
   "metadata": {},
   "outputs": [],
   "source": []
  }
 ],
 "metadata": {
  "kernelspec": {
   "display_name": "Python 3",
   "language": "python",
   "name": "python3"
  },
  "language_info": {
   "codemirror_mode": {
    "name": "ipython",
    "version": 3
   },
   "file_extension": ".py",
   "mimetype": "text/x-python",
   "name": "python",
   "nbconvert_exporter": "python",
   "pygments_lexer": "ipython3",
   "version": "3.6.5"
  }
 },
 "nbformat": 4,
 "nbformat_minor": 2
}
