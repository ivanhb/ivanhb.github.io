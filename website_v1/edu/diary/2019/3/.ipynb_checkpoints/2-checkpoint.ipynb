{
 "cells": [
  {
   "cell_type": "markdown",
   "metadata": {},
   "source": [
    "# March 8:\n",
    "---"
   ]
  },
  {
   "cell_type": "markdown",
   "metadata": {},
   "source": [
    "## OSCAR paper for Data Science: Reviews corrections\n",
    "I have answered and solved all the comments raised from the reviewers regarding the paper of OSCAR.  \n",
    "[Here is a link to the document containing the responses to all the reviewers commits](https://docs.google.com/document/d/15lZg3QxuJsk-P0oMkvM8ovrOpbJVZMtF4LfvNI4M36Q/edit?usp=sharing).   \n",
    "We will send this document when re-submitting our paper again.\n",
    "### The main changes made are:\n",
    "1) Adding a new subsection in the 'Related works' section to discuss the tools maintained and comparing them with OSCAR. To show this we used a comparison table.    \n",
    "2) Two other tools have been added in the Related works: ELDA and YASGUI. (as the reviewers suggested)  \n",
    "3) Publishing a release of OSCAR via the Zenodo service. (http://doi.org/10.5281/zenodo.2587541)  \n",
    "4) There is [a file containing guidelines](https://github.com/opencitations/oscar/blob/master/static/js/conf-guidelines.js) regarding how a configuration file should be created. \n",
    "\n",
    "After David made his revision of the paper all the textual adjustments have been made, plus the version of OSCAR uploaded on Zenodo has been modified, so to clarify the fact that the uploaded version is the v2.0.0 of OSCAR (the one we are presenting in the current paper).  "
   ]
  },
  {
   "cell_type": "markdown",
   "metadata": {},
   "source": [
    "## Ph.D. Abstract\n",
    "I have read other related materials from the literature. All the papers and documents i am consulting are annotated via Zotero. For each paper I am also writing down some notes and relevant facts I should consider when writing the abstract.  \n",
    "I have wrote down a first complete draft of the abstract, considering all the listed subsections mentioned in the guidelines. The current version of the abstract is written in google drive at [the following link](https://docs.google.com/document/d/1izNYfDKRChrvHkRWYUfgiKP6yGOiz6MCdVSMPOJg_jA/edit?usp=sharing)."
   ]
  },
  {
   "cell_type": "markdown",
   "metadata": {},
   "source": [
    "## The CATARSI project\n",
    "After attending the [CATARSI](https://bandi.unibo.it/s/disa/avviso-pubblico-di-selezione-per-titoli-e-colloquio-per-l-affidamento-di-un-incarico-di-collaborazione-coordinata-e-continuativa-per-sviluppo-di-una-interfaccia-web-per-l-integrazione-di-strumento-di-analisi-testuale-nell-ambito-del-progetto-catarsi-alma) interview, I have been successfully accepted as a member of the project.  \n",
    "I have started building a work background through the consultation of some projects/programming-libraries which might become useful in the development of this project."
   ]
  },
  {
   "cell_type": "code",
   "execution_count": null,
   "metadata": {},
   "outputs": [],
   "source": []
  }
 ],
 "metadata": {
  "kernelspec": {
   "display_name": "Python 3",
   "language": "python",
   "name": "python3"
  },
  "language_info": {
   "codemirror_mode": {
    "name": "ipython",
    "version": 3
   },
   "file_extension": ".py",
   "mimetype": "text/x-python",
   "name": "python",
   "nbconvert_exporter": "python",
   "pygments_lexer": "ipython3",
   "version": "3.6.5"
  }
 },
 "nbformat": 4,
 "nbformat_minor": 2
}
