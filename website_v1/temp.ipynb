{
 "cells": [
  {
   "cell_type": "code",
   "execution_count": 21,
   "metadata": {},
   "outputs": [],
   "source": [
    "with open(\"edu/index/academic_activity.json\", 'r') as f:\n",
    "    j = json.load(f)"
   ]
  },
  {
   "cell_type": "code",
   "execution_count": 26,
   "metadata": {},
   "outputs": [
    {
     "name": "stdout",
     "output_type": "stream",
     "text": [
      "21/05/2020 H3\n",
      "14/05/2020 H3\n",
      "06/05/2020 H3\n",
      "04/05/2020 H3\n",
      "30/04/2020 H4\n",
      "23/04/2020 H2\n",
      "16/04/2020 H3\n",
      "20/02/2020 H2\n",
      "13/02/2020 H3\n",
      "23/01/2020 H3\n"
     ]
    }
   ],
   "source": [
    "count = 0\n",
    "for a in j[\"items\"]:\n",
    "    if \"comune\" in a[\"activity_type\"] and \"2020\" in a[\"date\"]:\n",
    "        print(a[\"date\"],a[\"duration\"])\n",
    "        count = count + int(a[\"duration\"][-1]) "
   ]
  },
  {
   "cell_type": "code",
   "execution_count": null,
   "metadata": {},
   "outputs": [],
   "source": []
  }
 ],
 "metadata": {
  "kernelspec": {
   "display_name": "Python 3",
   "language": "python",
   "name": "python3"
  },
  "language_info": {
   "codemirror_mode": {
    "name": "ipython",
    "version": 3
   },
   "file_extension": ".py",
   "mimetype": "text/x-python",
   "name": "python",
   "nbconvert_exporter": "python",
   "pygments_lexer": "ipython3",
   "version": "3.7.3"
  }
 },
 "nbformat": 4,
 "nbformat_minor": 2
}
