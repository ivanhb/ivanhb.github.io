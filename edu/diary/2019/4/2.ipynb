{
 "cells": [
  {
   "cell_type": "markdown",
   "metadata": {},
   "source": [
    "# April 12:\n",
    "---"
   ]
  },
  {
   "cell_type": "markdown",
   "metadata": {},
   "source": [
    "## COCI paper for ISWC\n",
    "We have received David revision of the paper. And some comments/adjustments to apply on the COCI repository. The paper has been submitted by Silvio after completing the last modifications on it."
   ]
  },
  {
   "cell_type": "markdown",
   "metadata": {},
   "source": [
    "## A meeting with the CATARSI team\n",
    "We have generally discussed the main features we should include in the developed tool, and the highest priority operations which should be available. These points will be much more clear once Luca and Paolo send us a brief report describing the common procedures and workflow they have adopted on the past analysis.  \n",
    "We discussed also the previous tool architecture I have presented in the previous diary notebook. After, establishing the possible workflows and features we decided to change the current architecture into a more flexible version. So we should not separate the workflow into different stages, e.g. “input -> pre-processing …”, instead the workflow is a combination of several ’Tools’ and ‘Data’ entities which could be integrated and connected freely into the diagram. The following diagram represents the general architecture as it should be now:\n",
    "<img src=\"img/gr2.png\" width=\"75%\">  \n",
    "Moving on the developing side, after experimenting several libraries and graphical options, I decided to consider https://cytoscape.org as js library to use for the graph generation. This library does not contain very high builtin procedures, but it makes my developing customisation an important part on the final definition of the tool.  \n",
    "I have focused a lot during this week on building a first interface of the tool. The current situation is shown in the following screenshot:\n",
    "<img src=\"img/tool0.png\" width=\"95%\">  \n",
    "The left side of the interface is dedicated to control and configure the graph shown on the right side. On the top we have the ability to “Add a tool”, which could be a ‘filter’,’text-analysis tool’, or ‘visualiser’. On the other hand, ‘Data’ will add a blue node into the graph representing an input data.  \n",
    "Moving down these two buttons, we have the information section which could be ‘Overview’: a summary of the graph and its general aspects, or ‘Info’: information about the selected element from the graph. (In this case ’Topic Modelling 2’). These operations could be edited, and the selected element could be also completely removed, using the two buttons ‘Edit properties’, and ‘Remove element’.  \n",
    "Next week I will move on and finalise all the web-interface, after getting some feedbacks from the CATARSI team on the current situation of the tool. "
   ]
  },
  {
   "cell_type": "markdown",
   "metadata": {},
   "source": [
    "## A Survey on 3-edit visualization\n",
    "I have made a survey on a tool developed by some colleagues."
   ]
  },
  {
   "cell_type": "markdown",
   "metadata": {},
   "source": [
    "##  Last revision of the OSCAR DataScience paper\n",
    "Some minor textual issues have been fixed. I asked the editorial support team whether they can rotate in landscape mode the image containing the comparison table of the tools. The last email response I recieved from the editor told me they will review and try fix this final issue."
   ]
  }
 ],
 "metadata": {
  "kernelspec": {
   "display_name": "Python 3",
   "language": "python",
   "name": "python3"
  },
  "language_info": {
   "codemirror_mode": {
    "name": "ipython",
    "version": 3
   },
   "file_extension": ".py",
   "mimetype": "text/x-python",
   "name": "python",
   "nbconvert_exporter": "python",
   "pygments_lexer": "ipython3",
   "version": "3.6.5"
  }
 },
 "nbformat": 4,
 "nbformat_minor": 2
}
