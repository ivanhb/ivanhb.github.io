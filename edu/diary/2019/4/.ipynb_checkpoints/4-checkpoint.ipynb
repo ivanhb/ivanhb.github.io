{
 "cells": [
  {
   "cell_type": "markdown",
   "metadata": {},
   "source": [
    "# April 26:\n",
    "---"
   ]
  },
  {
   "cell_type": "markdown",
   "metadata": {},
   "source": [
    "## CATARSI: Some Definitions for the DIPAM tool\n",
    "Root nodes: the nodes that have no incoming edges, typically these nodes are the ‘Data’ type of nodes. In the example of **Figure.1**, the nodes A and B are root nodes.\n",
    "<img src=\"img/ex_path3.png\" width=\"44%\">\n",
    "\n",
    "### A Path\n",
    "A set of nodes which follow the edge direction until an intersection node is encountered through its way. **In Figure.2** we show two different situations, and how 3 different paths are defined in each case.  \n",
    "<img src=\"img/ex_path.png\" width=\"64%\">\n",
    "\n",
    "### Intersection nodes \n",
    "As we can see from **Figure.2**, some Paths might have common nodes, these nodes are **intersection nodes**. In the first image (left one) we call such intersection node: **Splitting-Intersection-Node**, while on the second case we have a: **Merging-Intersection-Node**. \n",
    "Note:\n",
    "1. In case the intersection point **splits into N different edges**, then N different new paths are defined having the intersection node as their first node.\n",
    "2. In case the intersection point **merges N different edges**, then a new merge path is defined having the intersection node as its first node.\n",
    "\n",
    "### Identifiers\n",
    "Each path identifiers starts with a **“p-“ prefix**, and the inner value is surrounded by **“[ ]”**. For instance: **“p-[0]” and \"p-[12]” are two valid IDs.** When :\n",
    "* **Merging N paths:** the new path ID will be represented through a prefix “p-“ and the concatenation of the inner values separated by commas. For instance, when merging p-[0], p-[1], and p-[2] the new value will be p-[[0],[1],[2]]  \n",
    "* **Splitting into N paths:** the new path ID will be represented through a prefix “p-“ and the concatenation of the original path followed by “/“ separator and the N-part value. For instance, when splitting p-[0] in two paths, the new values will be p-[[0]/0] and p-[[0]/1].\n",
    "\n",
    "\n"
   ]
  },
  {
   "cell_type": "markdown",
   "metadata": {},
   "source": [
    "## CATARSI: Building the workflow of DIPAM\n",
    "Following the DIPAM definitions, here are the steps to follow in order to build the entire workflow:\n",
    "\n",
    "### Pre:\n",
    "* **Initialise 5 different data structures:**\n",
    "    * **paths:** this structure will contain all the paths and the set of nodes related to them.\n",
    "    * **path_queue:** this structure will be dynamically used during the elaboration process. This structure will follow the FIFO strategy.\n",
    "    * **completed_paths:** each processed path will end-up in this data structure after its processing is done.\n",
    "    * **index_intersections_merge:** all the Merging intersection nodes encountered during the processing of the paths will be pushed inside this structure. For each intersection node, we will keep track of the incoming paths, along with the outgoing path generated.\n",
    "    * **index_intersections_split:** all the Splitting intersection nodes encountered during the processing of the paths will be pushed inside this structure. For each intersection node, we will keep track of the incoming path, along with all the outgoing paths generated.\n",
    "\n",
    "### Process:\n",
    "1. Build the first Paths starting from all the Root nodes, and insert the first Paths in the path_queue.\n",
    "2. Pop the first path to process. \n",
    "3. If the first node of the path has NOT yet been annotated as an intersection node: go to step (5). \n",
    "4. Keep pushing nodes inside its set until the process arrives at an intersection point: go to step (5). or a leaf node is reached: go to step (6) \n",
    "5. Handle the intersection point according to its type:\n",
    "    1. Merging: check the index_intersections_merge structure in case all the other merging paths have arrived, the generate the merging path and push it inside the path_queue. Otherwise, decrease the waiting number of expected paths, and go to step (6). Note: the first node of the generated path is the current intersection node reached.\n",
    "    2. Splitting: generate the splitting paths and push them inside the path_queue. Note: the first node of each generated path is the current intersection node reached. Go to step (6).\n",
    "6. Insert the completed_paths data structure, get back to step (2) and pop a new path to process from the path_queue. \n",
    "\n",
    "### Future work: \n",
    "* We should avoid loops. Like the A-C-D situation of Figure.1\n",
    "* We should avoid the ability to create an edge if the node is not yet selected"
   ]
  },
  {
   "cell_type": "markdown",
   "metadata": {},
   "source": [
    "## CATARSI: Workflow execution of DIPAM\n",
    "Here we list the steps to take in order to correctly execute the defined workflow.\n",
    "1. By taking in consideration the **completed_paths** structure populated during the workflow definition we start processing the first element and **Pop it from completed_paths**.\n",
    "2. We iterate through the node-set of the Path popped on step (1), until we reach the last node of the set. In case such node is an intersection-node (Splitting or Merging), we check whether all the other paths connected have been already processed, in this case we move to Step (3), else we go to step (4).\n",
    "3. Collect the results produced from all the other connected paths, and process the given node.\n",
    "4.  We need to wait the results of all the other Paths. We push the current path in a processing queue so it could be processed later again.\n",
    "5. Check if the **completed_paths queue** is empty. In this case the process is done, otherwise get back to Step (1), and pop a new path.\n",
    "\n",
    "### Interface\n",
    "Once the user click on the Run Workflow button. Some steps should be taken by DIPAM in order to correctly define the visual workflow diagram. The following Figure shows the current Interface.\n",
    "<img src=\"img/run_btn.png\" width=\"84%\">"
   ]
  }
 ],
 "metadata": {
  "kernelspec": {
   "display_name": "Python 3",
   "language": "python",
   "name": "python3"
  },
  "language_info": {
   "codemirror_mode": {
    "name": "ipython",
    "version": 3
   },
   "file_extension": ".py",
   "mimetype": "text/x-python",
   "name": "python",
   "nbconvert_exporter": "python",
   "pygments_lexer": "ipython3",
   "version": "3.6.5"
  }
 },
 "nbformat": 4,
 "nbformat_minor": 2
}
