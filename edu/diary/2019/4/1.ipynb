{
 "cells": [
  {
   "cell_type": "markdown",
   "metadata": {},
   "source": [
    "# April 5:\n",
    "---"
   ]
  },
  {
   "cell_type": "markdown",
   "metadata": {},
   "source": [
    "## Review the Latex version of OSCAR DataScience Paper\n",
    "The version of the proof article is not correct! \n",
    "Such that it corresponds to the older version of the paper (before the corrections of the Reviewers have been made). I have just checked the ‘Camera Ready’ version at my datasciencehub.net, and it appear to be the correct version to use as proof. Hopefully they will be able to fix this issue."
   ]
  },
  {
   "cell_type": "markdown",
   "metadata": {},
   "source": [
    "## CATARSI project\n",
    "I have started defining the general architecture and logics of the tool I should develop.  \n",
    "Currently, I have a local git repository (https://github.com/ivanhb/vwbata) containing the code and all other related materials. I will move everything on the official CATARSI git repository maybe after our first meeting on Monday. \n",
    "One of the choices I have made is to build the tool using the [Flask framework](http://flask.pocoo.org/), which will let us handle all the server side using Python programming language. This decision has been taken also considering the automatic-textual analysis libraries we have in python. \n",
    "The core of the tool is managed through one config file, which currently looks like this:\n",
    "```\n",
    "{\n",
    "\n",
    "  \"data\": {\n",
    "        \"d0\":{\n",
    "            \"label\": \"File/s in .txt format\",\n",
    "            \"type\": \"txt\",\n",
    "        },\n",
    "        \"d1\":{\n",
    "            \"label\": \"Topic model .csv file (each row is a different topic)\",\n",
    "            \"type\": \"csv\",\n",
    "        },\n",
    "  },\n",
    "\n",
    "  \"tool\": {\n",
    "        \"t0\": {\n",
    "            \"label\": \"Topic modeling with LDA\",\n",
    "            \"function\": \"lda\",\n",
    "            \"param\": [\"p1\"],\n",
    "            \"compatible_input\": [\"d0\"],\n",
    "            \"output\": [\"d1\"]\n",
    "        }\n",
    "  },\n",
    "\n",
    "  \"view\": {\n",
    "        \"v0\": {\n",
    "            \"label\": \"Bar chart\",\n",
    "            \"function\": \"bar_chart\",\n",
    "            \"param\": [\"p0\"],\n",
    "            \"compatible_input\": [\"d1\"]\n",
    "        }\n",
    "  },\n",
    "\n",
    "  \"param\": {\n",
    "    \"p0\":{\n",
    "      \"label\": \"Log scale\",\n",
    "      \"value_label\": [\"True\",\"False\"],\n",
    "      \"value\": [true,false]\n",
    "    },\n",
    "    \"p1\":{\n",
    "      \"label\": \"Topic number\",\n",
    "      \"value_label\": [\"2\",\"3\",\"4\",\"5\",\"10\",\"15\",\"20\"],\n",
    "      \"value\": [2,3,4,5,10,15,20]\n",
    "    }\n",
    "  }\n",
    "\n",
    "}\n",
    "```\n",
    "I will explain all the above attributes and fields on our first CATARSI meeting.\n",
    "More generally the architectural diagram is defined like this:\n",
    "\n",
    "<img src=\"img/diagram.png\" width=\"75%\">\n",
    "\n",
    "\n",
    "Some bureaucratic operations have been also done such as: the flight, and hotel."
   ]
  },
  {
   "cell_type": "markdown",
   "metadata": {},
   "source": [
    "## Reviewing/Modifying my Ph.D. abstract\n",
    "I still needed to fix some issues pointed out by Silvio, the main problem was regarding the second selected subject of my researching questions (in the purpose section): the Research 'Evaluation'. Still after the first adjustments made, it looks like I am still addressing such issue directly, which goes out of the purposes of my thesis.  \n",
    "Another important thing, was switching the resources to analyse from 'Books' to 'Journal Articles'. Although, some of the papers I have read point out the fact that Humanities researches are mostly published on Books, still it is a difficult type of resource to analyse considering it's less availability.  \n",
    "I have made a third correction on the abstract, considering all other minor problems (textual and references). Finally, the last version of the abstract have been converted into PDF format and sent to Ludo Waltman and Giovanni Colavizza, in order to have also there opinion on it.   \n",
    "\n",
    "\n"
   ]
  }
 ],
 "metadata": {
  "kernelspec": {
   "display_name": "Python 3",
   "language": "python",
   "name": "python3"
  },
  "language_info": {
   "codemirror_mode": {
    "name": "ipython",
    "version": 3
   },
   "file_extension": ".py",
   "mimetype": "text/x-python",
   "name": "python",
   "nbconvert_exporter": "python",
   "pygments_lexer": "ipython3",
   "version": "3.6.5"
  }
 },
 "nbformat": 4,
 "nbformat_minor": 2
}
