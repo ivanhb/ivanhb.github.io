{
 "cells": [
  {
   "cell_type": "markdown",
   "metadata": {},
   "source": [
    "# July 15:\n",
    "---"
   ]
  },
  {
   "cell_type": "markdown",
   "metadata": {},
   "source": [
    "## The EURAM 2019 Conference\n",
    "Together with Luca Pareschi and Paolo Ferri we went to Lisbon to attend the EURAM 2019 Conference. We have organised a Symposia and presented [MITAO, A Mashup Interface for Text Analysis Operations](https://github.com/catarsi/mitao). The audience was acknowledged 2 days before starting this session on how the tool could be installed on their local machines. The presentation was very successful, and we received a lot of positive feedbacks from the audience, which found our work highly interesting and applicable in their own research. "
   ]
  },
  {
   "cell_type": "markdown",
   "metadata": {},
   "source": [
    "## The ISWS Summer school\n",
    "The [ISWS summer school](http://stlab.istc.cnr.it/isws/wordpress-isws2019/), is an intense one week of presentations, team-work, and entertainment. The final objective of the school was to write a complete academic paper on a particular problem presented by one of the ISWS tutors. Along this, other entertainment parts should be taken in consideration, such as creating two videos."
   ]
  },
  {
   "cell_type": "markdown",
   "metadata": {},
   "source": [
    "## Writing the paper \"Conformità all’Open Access delle riviste pubblicate dall’Università di Bologna\"\n",
    "Since this is a collaborative work with all the people who attended the seminary, we have devided the work on all the partecipants. My section was the \"Results\" section, in this case I have built some graphics which summarize the results obtained on our analysis, during the final part of the seminary.\n",
    "Along this, I have worked a bit with the other participants and helped them completing their parts too."
   ]
  },
  {
   "cell_type": "code",
   "execution_count": null,
   "metadata": {},
   "outputs": [],
   "source": []
  }
 ],
 "metadata": {
  "kernelspec": {
   "display_name": "Python 3",
   "language": "python",
   "name": "python3"
  },
  "language_info": {
   "codemirror_mode": {
    "name": "ipython",
    "version": 3
   },
   "file_extension": ".py",
   "mimetype": "text/x-python",
   "name": "python",
   "nbconvert_exporter": "python",
   "pygments_lexer": "ipython3",
   "version": "3.7.3"
  }
 },
 "nbformat": 4,
 "nbformat_minor": 2
}
