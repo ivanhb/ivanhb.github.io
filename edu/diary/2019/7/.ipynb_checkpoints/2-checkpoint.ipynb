{
 "cells": [
  {
   "cell_type": "markdown",
   "metadata": {},
   "source": [
    "# July 19:\n",
    "---"
   ]
  },
  {
   "cell_type": "markdown",
   "metadata": {},
   "source": [
    "## DHARC Digital Library \n",
    "Together with Tommaso Vitale we reviewed OmekaS, and talked about how we can customise the provided layout samples for the DHARC Digital Library project. He further sent me some instructions and documentations/manuals to read before start developing with OmekaS. I have been also enabled to access the DHARC server as root and adopt some changes on a separated example layout (not the production version).  \n",
    "We have a new git organisation: https://github.com/dharc-org and we currently have one repository in it representing the Digital Library webpage theme: https://github.com/dharc-org/dharc-omeka-s-theme.\n",
    "I have started reading the OmekaS documentation, and apply the first changes on the theme. The main challenge is regarding the .phtml files adopted, which combine php and html. \n",
    "The Digital Library page address is: http://137.204.168.8/s/digital-library/page/home .\n",
    "\n",
    "## ISWS Summer School final report\n",
    "I have fixed and reviewed again the final report produced at the summer school, since some of its parts were inconsistent, e.g: some of the figures have been wrongly mentioned. Valentina Carriero asked me to help her in this process, since they will need to create one final document containing the reports produced by all the Summer School working teams.\n",
    "\n",
    "## The Results section of the paper \"Conformità all’Open Access delle riviste pubblicate dall’Università di Bologna\"\n",
    "I have modified the charts and tables used inside the “Results” section, and reviewed the other sections.\n"
   ]
  }
 ],
 "metadata": {
  "kernelspec": {
   "display_name": "Python 3",
   "language": "python",
   "name": "python3"
  },
  "language_info": {
   "codemirror_mode": {
    "name": "ipython",
    "version": 3
   },
   "file_extension": ".py",
   "mimetype": "text/x-python",
   "name": "python",
   "nbconvert_exporter": "python",
   "pygments_lexer": "ipython3",
   "version": "3.7.3"
  }
 },
 "nbformat": 4,
 "nbformat_minor": 2
}
