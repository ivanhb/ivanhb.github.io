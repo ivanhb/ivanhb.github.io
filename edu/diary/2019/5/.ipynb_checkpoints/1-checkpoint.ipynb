{
 "cells": [
  {
   "cell_type": "markdown",
   "metadata": {},
   "source": [
    "# May 3:\n",
    "---"
   ]
  },
  {
   "cell_type": "markdown",
   "metadata": {},
   "source": [
    "## CATARSI meeting\n",
    "We have discussed the current interface and the things we should add on it. We established a minimum result to achieve before the Lisbon conference. Our system should be able to do a regex filter tool, along with a standard regex interface for non regex expert users. For our next meeting I will work on building a workflow which can do a Topic-model process and generate results which could be saved. "
   ]
  },
  {
   "cell_type": "markdown",
   "metadata": {},
   "source": [
    "## DIPAM adjustments and new Features\n",
    "These are all things I have fixed in DIPAM according to the feedbacks received on the last CATARSI meeting:\n",
    "* **Add ‘Undo’ ‘Redo’ buttons**: this feature is available when adding or removing elements from the graph\n",
    "* **Processing order of the nodes** The definition of the path is also something known as ’Topological Sort’ (https://www.techiedelight.com/topological-sorting-dag/) \n",
    "* **Handling the visual addition of the nodes**: When adding a node it will appear under the others add just before him (in case there is another node there already) \n",
    "* **Add the zoom buttons (+ -)**: these icons have been added into the graph so it shows that it’s possible to zoom in/out\n",
    "* **Once someone adds a node the edit section of it will open**\n",
    "* **The graph will check if there is any situation of Loop (as I described in the previous diary report)** \n",
    "* **DIPAM works also in Firefox (along with Chrome), it still got a small issue regarding the zoom in/out actions**\n",
    "\n",
    "I have started integrating Flask into DIPAM. Right now the first steps I would like to handle are the saving/loading of configuration and workflow JSON files. "
   ]
  },
  {
   "cell_type": "markdown",
   "metadata": {},
   "source": [
    "## I have been accepted to the ISSI doctoral forum\n",
    "I have been selected to participate in the ISSI doctoral forum which will be held in conjunction with the 17th International Conference on Scientometrics & Informetrics at Sapienza University in Rome, Italy. (ISSI-2019 conference) The doctoral forum will be held from 9-11:30a on Monday, September 2."
   ]
  },
  {
   "cell_type": "code",
   "execution_count": null,
   "metadata": {},
   "outputs": [],
   "source": []
  }
 ],
 "metadata": {
  "kernelspec": {
   "display_name": "Python 3",
   "language": "python",
   "name": "python3"
  },
  "language_info": {
   "codemirror_mode": {
    "name": "ipython",
    "version": 3
   },
   "file_extension": ".py",
   "mimetype": "text/x-python",
   "name": "python",
   "nbconvert_exporter": "python",
   "pygments_lexer": "ipython3",
   "version": "3.6.5"
  }
 },
 "nbformat": 4,
 "nbformat_minor": 2
}
