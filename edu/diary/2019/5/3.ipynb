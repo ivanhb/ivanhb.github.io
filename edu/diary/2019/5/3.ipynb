{
 "cells": [
  {
   "cell_type": "markdown",
   "metadata": {},
   "source": [
    "# May 17:\n",
    "---"
   ]
  },
  {
   "cell_type": "markdown",
   "metadata": {},
   "source": [
    "## DIPAM for CATARSI"
   ]
  },
  {
   "cell_type": "markdown",
   "metadata": {},
   "source": [
    "Some of the main new additions made to DIPAM are:\n",
    "* Internal loops check: when a user tries to add a new Edge the tool will check whether such new addition will cause an internal loop in the digram. In such case, the tool will not allowed the edge addition.\n",
    "* Parameters for 'Tool' and 'Data' nodes: now it's possible to associate parameters to each different node according to its type. When implementing this feature I have also decided to change the previous configuration described when defining new node attributes. Skip on to the 'Configuration' of this document to see in details. \n",
    "* Topic modelling on the server side: I have made some tests to correctly implement a Topic-modelling analysis on a given textual file/s. I am currently moving and developing this feature on the DIPAM server side. The notebook including these tests is on the DIPAM git repository at https://github.com/ivanhb/dipam\n",
    "\n",
    "\n",
    "### Configuration\n",
    "Each node of the digram must always contain these attributes:\n",
    "* **id**  an identifier for the diagram node.  \n",
    "* **name** a textual label \n",
    "* **type** one of the possible data types enabled to be nodes. e.g: tool\n",
    "* **value** a sub-element of type. e.g: lad-classification\n",
    "\n",
    "Users can only modify the **name** and **value** (its category) of each attribute \n",
    "\n",
    "<table style=\"border-collapse: collapse; min-width: 100%;\"><colgroup><col style=\"width: 130px;\"/><col style=\"width: 130px;\"/><col style=\"width: 130px;\"/><col style=\"width: 130px;\"/></colgroup><tbody><tr><td style=\"width: 130px; padding: 8px; border: 1px solid;\"><div style=\"text-align: center; \"><span style=\"font-weight: bold; font-size: 18px;\">Edge</span></div></td><td style=\"width: 130px; padding: 8px; border: 1px solid;\"><div style=\"text-align: center; \"><span style=\"font-weight: bold; font-size: 18px;\">Node</span></div></td><td style=\"width: 130px; padding: 8px; border: 1px solid;\"><div style=\"text-align: center; \"><span style=\"font-weight: bold; font-size: 18px;\">Diagram</span></div></td><td style=\"width: 130px; padding: 8px; border: 1px solid;\"><div style=\"text-align: center; \"><span style=\"font-size: 18px;\"><span style=\"color: rgb(4, 51, 255); font-size: 18px; font-weight: bold;\">Modifiable</span></span></div></td></tr><tr><td style=\"width: 130px; padding: 8px; border: 1px solid;\"><div style=\"text-align: center; \"><span style=\"font-weight: bold;\">id</span></div></td><td style=\"width: 130px; padding: 8px; border: 1px solid;\"><div style=\"text-align: center;\"><span style=\"font-weight: bold;\">id</span></div></td><td style=\"width: 130px; padding: 8px; border: 1px solid;\"><div style=\"text-align: center;\"><span style=\"font-weight: bold;\">id</span></div></td><td style=\"width: 130px; padding: 8px; border: 1px solid;\"><div style=\"text-align: center; \"><span style=\"color: rgb(255, 38, 0);\">No</span></div></td></tr><tr><td style=\"width: 130px; padding: 8px; border: 1px solid;\"><div style=\"text-align: center; \"><span style=\"font-weight: bold;\">name</span></div></td><td style=\"width: 130px; padding: 8px; border: 1px solid;\"><div style=\"text-align: center; \"><span style=\"font-weight: bold;\">name</span></div></td><td style=\"width: 130px; padding: 8px; border: 1px solid;\"><div style=\"text-align: center;\"><span style=\"font-weight: bold;\">name</span></div></td><td style=\"width: 130px; padding: 8px; border: 1px solid;\"><div style=\"text-align: center; \"><span style=\"color: rgb(0, 143, 0);\">Yes</span></div></td></tr><tr><td style=\"width: 130px; padding: 8px; border: 1px solid;\"><div style=\"text-align: center; \"><span style=\"font-weight: bold;\">type</span></div></td><td style=\"width: 130px; padding: 8px; border: 1px solid;\"><div style=\"text-align: center; \"><span style=\"font-weight: bold;\">type</span></div></td><td style=\"width: 130px; padding: 8px; border: 1px solid;\"><div style=\"text-align: center;\"><span style=\"font-weight: bold;\">type</span></div></td><td style=\"width: 130px; padding: 8px; border: 1px solid;\"><div style=\"text-align: center; \"><span style=\"color: rgb(255, 38, 0);\">No</span></div></td></tr><tr><td style=\"width: 130px; padding: 8px; border: 1px solid;\"><div style=\"text-align: center; \"><span style=\"font-weight: bold;\">value</span></div></td><td style=\"width: 130px; padding: 8px; border: 1px solid;\"><div style=\"text-align: center; \"><span style=\"font-weight: bold;\">value</span></div></td><td style=\"width: 130px; padding: 8px; border: 1px solid;\"><div style=\"text-align: center; \"><span style=\"font-weight: bold;\">value</span></div></td><td style=\"width: 130px; padding: 8px; border: 1px solid;\"><div style=\"text-align: center; \"><span style=\"color: rgb(0, 143, 0);\">Yes</span></div></td></tr><tr><td style=\"width: 130px; padding: 8px; border: 1px solid;\"><div style=\"text-align: center; \"><span style=\"font-weight: bold;\">source</span></div></td><td style=\"width: 130px; padding: 8px; border: 1px solid;\"><div style=\"text-align: center;\"><br/></div></td><td style=\"width: 130px; padding: 8px; border: 1px solid;\"><div style=\"text-align: center;\"><br/></div></td><td style=\"width: 130px; padding: 8px; border: 1px solid;\"><div style=\"text-align: center; \"><span style=\"color: rgb(255, 38, 0);\">No</span></div></td></tr><tr><td style=\"width: 130px; padding: 8px; border: 1px solid;\"><div style=\"text-align: center; \"><span style=\"font-weight: bold;\">target</span></div></td><td style=\"width: 130px; padding: 8px; border: 1px solid;\"><div style=\"text-align: center;\"><br/></div></td><td style=\"width: 130px; padding: 8px; border: 1px solid;\"><div style=\"text-align: center;\"><br/></div></td><td style=\"width: 130px; padding: 8px; border: 1px solid;\"><div style=\"text-align: center; \"><span style=\"color: rgb(255, 38, 0);\">No</span></div></td></tr></tbody></table>\n",
    "\n",
    "For the configuration of DIPAM to the CATARSI project, the additional attributes added beside the above, are the following (all the new attributes can be modified from DIPAM interface): \n",
    "\n",
    "<table style=\"border-collapse: collapse; min-width: 100%;\"><colgroup><col style=\"width: 89px;\"/><col style=\"width: 104px;\"/><col style=\"width: 130px;\"/><col style=\"width: 130px;\"/><col style=\"width: 130px;\"/><col style=\"width: 130px;\"/><col style=\"width: 130px;\"/></colgroup><tbody><tr><td style=\"border: 1px solid rgb(204, 204, 204); width: 89px; padding: 8px;\"><div style=\"text-align: left;\"><span style=\"font-size: 18px; font-weight: bold;\">Edge</span></div></td><td style=\"border: 1px solid rgb(204, 204, 204); width: 104px; padding: 8px;\"><div style=\"text-align: left;\"><span style=\"font-size: 18px; font-weight: bold;\">Node</span></div></td><td style=\"border: 1px solid rgb(204, 204, 204); width: 130px; padding: 8px;\"><div><br/></div></td><td style=\"border: 1px solid rgb(204, 204, 204); width: 130px; padding: 8px;\"><div><br/></div></td><td style=\"border: 1px solid rgb(204, 204, 204); width: 130px; padding: 8px;\"><div><br/></div></td><td style=\"border: 1px solid rgb(204, 204, 204); width: 130px; padding: 8px;\"><div><br/></div></td><td style=\"border: 1px solid rgb(204, 204, 204); width: 130px; padding: 8px;\"><div style=\"text-align: left;\"><span style=\"font-size: 18px; font-weight: bold;\">Diagram</span></div></td></tr><tr><td style=\"border: 1px solid rgb(204, 204, 204); width: 89px; padding: 8px;\"><div><br/></div></td><td style=\"border: 1px solid rgb(204, 204, 204); width: 104px; padding: 8px;\"><div><span style=\"font-style: italic; font-weight: bold;\">data</span></div></td><td style=\"border: 1px solid rgb(204, 204, 204); width: 130px; padding: 8px;\"><div><br/></div></td><td style=\"border: 1px solid rgb(204, 204, 204); width: 130px; padding: 8px;\"><div><span style=\"font-style: italic; font-weight: bold;\">tool</span></div></td><td style=\"border: 1px solid rgb(204, 204, 204); width: 130px; padding: 8px;\"><div><br/></div></td><td style=\"border: 1px solid rgb(204, 204, 204); width: 130px; padding: 8px;\"><div><br/></div></td><td style=\"border: 1px solid rgb(204, 204, 204); width: 130px; padding: 8px;\"><div><br/></div></td></tr><tr><td style=\"border: 1px solid rgb(204, 204, 204); width: 89px; padding: 8px;\"><div><br/></div></td><td style=\"border: 1px solid rgb(204, 204, 204); width: 104px; padding: 8px;\"><div><span style=\"font-style: italic; font-weight: bold;\">d-gen-table</span></div></td><td style=\"border: 1px solid rgb(204, 204, 204); width: 130px; padding: 8px;\"><div><span style=\"font-style: italic; font-weight: bold;\">d-gen-text</span></div></td><td style=\"border: 1px solid rgb(204, 204, 204); width: 130px; padding: 8px;\"><div><span style=\"font-style: italic; font-weight: bold;\">t-topic-lda</span></div></td><td style=\"border: 1px solid rgb(204, 204, 204); width: 130px; padding: 8px;\"><div><span style=\"font-style: italic; font-weight: bold;\">t-chart-bar</span></div></td><td style=\"border: 1px solid rgb(204, 204, 204); width: 130px; padding: 8px;\"><div><span style=\"font-style: italic; font-weight: bold;\">t-filter-names</span></div></td><td style=\"border: 1px solid rgb(204, 204, 204); width: 130px; padding: 8px;\"><div><br/></div></td></tr><tr><td style=\"border: 1px solid rgb(204, 204, 204); width: 89px; padding: 8px;\"><div><br/></div></td><td style=\"border: 1px solid rgb(204, 204, 204); width: 104px; padding: 8px;\"><div><span style=\"font-style: italic; color: rgb(121, 121, 121);\">p-file</span></div></td><td style=\"border: 1px solid rgb(204, 204, 204); width: 130px; padding: 8px;\"><div><span style=\"font-style: italic; color: rgb(121, 121, 121);\">p-file</span></div></td><td style=\"border: 1px solid rgb(204, 204, 204); width: 130px; padding: 8px;\"><div><span style=\"font-style: italic; color: rgb(121, 121, 121);\">p-topic</span></div></td><td style=\"border: 1px solid rgb(204, 204, 204); width: 130px; padding: 8px;\"><div><span style=\"font-style: italic; color: rgb(121, 121, 121);\">p-log </span></div></td><td style=\"border: 1px solid rgb(204, 204, 204); width: 130px; padding: 8px;\"><div><br/></div></td><td style=\"border: 1px solid rgb(204, 204, 204); width: 130px; padding: 8px;\"><div><br/></div></td></tr></tbody></table>\n",
    "\n",
    "For each different param we have its corresponding HTML-DOM implementation, along with the two must-att: name, value. \n"
   ]
  },
  {
   "cell_type": "markdown",
   "metadata": {},
   "source": [
    "Here is an example of th configuration file definition:\n",
    "\n",
    "```\n",
    "“data”:{\n",
    "    \"d-gen-table\":{\n",
    "            \"label\": \"Table\",\n",
    "            \"data_class\": \"table\",\n",
    "            \"param\": [\"p-file\"]\n",
    "        },\n",
    "..\n",
    "\"param\": {\n",
    "        \"p-file\":{\n",
    "          \"label\": \"File/s or Directory\",\n",
    "          \"value\": {}\n",
    "        },\n",
    "```\n",
    "In this case all the nodes having **value = 'd-gen-table'**, in addition to **'name'** and **'value'** users will have also the possibility to define **p-file** param from the DIPAM interface. Here is a corresponding screenshot:\n",
    "\n",
    "<img src=\"img/1.png\" width=\"44%\">"
   ]
  },
  {
   "cell_type": "markdown",
   "metadata": {},
   "source": [
    "## Attending the seminary \"i Maestri\"\n",
    "The main topic was about the works done by \"Gérard Genette\". An interesting overall descussion regarding Gneette works and main publications, although a bit far from the topics treated in my Phd studies. "
   ]
  },
  {
   "cell_type": "markdown",
   "metadata": {},
   "source": [
    "## DHARC meeting\n",
    "We have mainly discussed the DHARC presentation which will be held on the 23 of May. Each of the participants will have 10 minutes to discuss works and possible future contributions. "
   ]
  },
  {
   "cell_type": "markdown",
   "metadata": {},
   "source": [
    "## Assisting Silvio in the 'Inf-base' lab exam"
   ]
  }
 ],
 "metadata": {
  "kernelspec": {
   "display_name": "Python 3",
   "language": "python",
   "name": "python3"
  },
  "language_info": {
   "codemirror_mode": {
    "name": "ipython",
    "version": 3
   },
   "file_extension": ".py",
   "mimetype": "text/x-python",
   "name": "python",
   "nbconvert_exporter": "python",
   "pygments_lexer": "ipython3",
   "version": "3.6.5"
  }
 },
 "nbformat": 4,
 "nbformat_minor": 2
}
