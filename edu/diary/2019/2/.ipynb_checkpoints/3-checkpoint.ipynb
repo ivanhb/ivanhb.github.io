{
 "cells": [
  {
   "cell_type": "markdown",
   "metadata": {},
   "source": [
    "# February 15:\n",
    "---"
   ]
  },
  {
   "cell_type": "markdown",
   "metadata": {},
   "source": [
    "## LUCINDA browsing a DOI\n",
    "The following screenshot represent the current and last version of LUCINDA when browsing a DOI.  \n",
    "\n",
    "<img src=\"img/lucinda-doi.png\" width=\"850\"/>\n",
    "\n",
    "1) Now it’s possible to decide weather to include or not the Source of the visualised information (e.g: Crossref, and COCI).Following the example in the screenshot, in this case the COCI result was: “Setting Our Bibliographic References Free: Towards Open Citation Data” while the Crossref result was: “Setting our bibliographic references free: towards open citation data”. LUCINDA will merge the results coming from all the sources targeting the same value, and consequently group the ’source’ field. In this example we got only one value since a lowercase transformation of all the results received are equivalent.  \n",
    "\n",
    "2) While discussing this part with Silvio, we noticed the fact that the author links can point to several sources, for instance, OCC and Wikidata. Therefore, behind each author LUCINDA should visualise all the available links to such resource. A possible solution is to create small clickable icons which point to the original resource link. (e.g: the OpenCitations logo in case of OCC resource link).  \n",
    "\n",
    "3) The current version of LUCINDA allows the generation only of Bar-Charts. While discussing this part with Silvio we mentioned also the importance of showing the source of the results showed in the chart. We agreed that we need to create 2 different main BarCharts: Citations and References. Both the charts will be represented as Stacked charts and each inner block of the chart will have a different colour representing its source (dataset). We still need to figure out a possible solution to visualise the common elements (citations). When moving the pointer over a bar other details will appear such as the number of self citations included. The chart should look similar to the following sketch (applied for both Citations and References):"
   ]
  },
  {
   "cell_type": "markdown",
   "metadata": {},
   "source": [
    "## Our paper \"Enabling text search on SPARQL-endpoints through OSCAR” has been accepted \n",
    "Following the reviews we have received, we can summarise the main re-adaptions to make on the current version of the paper in these points:\n",
    "1. Including a more in depth comparison with other tools and describe what are OSCAR’s distinctive advantages. In this case, we should take into consideration the tools mentioned into the related works.\n",
    "\n",
    "2. Create a release using the GitHub/Zenodo association to obtain a DOI and make the code citable.\n",
    "\n",
    "3. Take into account all the textual changes indicated by reviewers and apply them.\n",
    "\n",
    "4. The written keywords are not suitable\n",
    "\n",
    "5. Talking about and citing other tools mentioned by the reviewers.\n",
    "\n",
    "6. Others\n",
    "\n",
    "Considering the first point, I started thinking about the list of features to use for a comparison between OSCAR and the other similar tools. I have currently wrote down these (with the corresponding situatuion in OSCAR):\n",
    "\n",
    "**Searching options:** Free-text, Combination of queries\n",
    "\n",
    "**Queryable datasets:** Any RDF dataset providing a SPARQL endpoint address\n",
    "\n",
    "**Post processing operations on the query results:** Creating links, grouping rows, value transformation, excluding columns and rows, integrating external data (using external services, e.g: API)\n",
    "\n",
    "**Filtering options:** Limiting the number of results, excluding/including rows with specified field values\n",
    "\n",
    "**Visualisation layout:** Table\n",
    "\n",
    "**Visual options:** Data sorting, paging, defining the number of rows per page \n",
    "\n",
    "**Export data:** Yes (csv format)\n",
    "\n",
    "**Usage requirements:** Embedded into any webpage\n",
    "\n",
    "**Software customisation/configuration:** Through one JavaScript file which contains all the parameters needed.\n",
    "Structure: Stand-alone javascript application"
   ]
  },
  {
   "cell_type": "markdown",
   "metadata": {},
   "source": [
    "## The Ph.D. Abstract\n",
    "Following the suggestions of Silvio, the next main steps I should focus on could be summarized in:\n",
    "\n",
    "1) Including citations inside the abstract, as it is common for doctoral thesis abstracts.\n",
    "\n",
    "2) A doctoral thesis abstract is much longer than a common one (e.g: journal article).\n",
    "\n",
    "3) The ‘Purpose’ section, which represents the first section of the abstract must include also the research questions and the objectives of my doctoral work.\n",
    "\n",
    "4) The research questions should target a more specific issues. This could be achieved through an additional and more intense examination of the letrature regarding biometrics and scientometric research into Humanities domain. \n",
    "\n",
    " "
   ]
  },
  {
   "cell_type": "markdown",
   "metadata": {},
   "source": []
  }
 ],
 "metadata": {
  "kernelspec": {
   "display_name": "Python 3",
   "language": "python",
   "name": "python3"
  },
  "language_info": {
   "codemirror_mode": {
    "name": "ipython",
    "version": 3
   },
   "file_extension": ".py",
   "mimetype": "text/x-python",
   "name": "python",
   "nbconvert_exporter": "python",
   "pygments_lexer": "ipython3",
   "version": "3.6.5"
  }
 },
 "nbformat": 4,
 "nbformat_minor": 2
}
