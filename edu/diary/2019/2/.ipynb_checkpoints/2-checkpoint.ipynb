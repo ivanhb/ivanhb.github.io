{
 "cells": [
  {
   "cell_type": "markdown",
   "metadata": {},
   "source": [
    "# February 8:\n",
    "---"
   ]
  },
  {
   "cell_type": "markdown",
   "metadata": {},
   "source": [
    "## Submitting \"Crowdsourcing open citations with CROCI\" to ISSI2019\n",
    "We have finalised and made the last adaptions to our \"Crowdsourcing open citations with CROCI\" paper and submit it to [ISSI2019](https://www.issi2019.org/). The last main modification I have made on it, was regarding the last table describing the contributions to open citations made by the publishers according to the data retrieved from crossref. We decided to extend the table with an additional column to show the overall number of DOIs deposited in Crossref by each publisher.  \n",
    "This adaption will light out the difference on the number of DOIs included in the close, limited, and open sets of crossref against the total number deposited in Crossref."
   ]
  },
  {
   "cell_type": "markdown",
   "metadata": {},
   "source": [
    "## LUCINDA browsing a DOI\n",
    "Since in this case the browsing page can include several information from different sources, LUCINDA must handle the possibility to let users define the rules and restrictions wanted on the data they want to show. For instance, one must decide:\n",
    "1. To give a label the values retrieved from all the sources which have been interrogated, and specify the corresponding source behind each value.   \n",
    "2. Taking the first non-value retrieved.  \n",
    "3. Join the values without specifying the service source.\n",
    "\n",
    "For instance, here we have a configuration example for showing the title of the DOI browsed:\n",
    "```\n",
    "\"ext_sources\": [\n",
    "    {\n",
    "        'name': 'crossref',\n",
    "        'label': 'Crossref',\n",
    "        'id': 'crossref_doi_title',\n",
    "        'call': 'https://api.crossref.org/works/[[?doi]]',\n",
    "        'format': 'json',\n",
    "        'handle': crossref_handle_title, \n",
    "        'targets': 'header.[[title_val]]',\n",
    "        'fields': ['message.title'],\n",
    "        'valid_data':[not_empty,not_undefined]\n",
    "    },\n",
    "    {\n",
    "        'name': 'coci_ramose',\n",
    "        'label': 'COCI',\n",
    "        'id': 'coci_doi_title',\n",
    "        'call': 'https://w3id.org/oc/index/coci/api/v1/metadata/[[?doi]]',\n",
    "        'format': 'json',\n",
    "        'handle': coci_handle_title,\n",
    "        'targets': 'header.[[title_val]]',\n",
    "        'valid_data':[not_empty,not_undefined]\n",
    "    },\n",
    "    ...\n",
    "]\n",
    "```\n",
    "**a) valid_data**: once the call retrieves some results these data should respect the restrictions specified by the functions defined here in order to be considered valid.  \n",
    "**b) handle**: the function that will be called once the call retrieves some results which are valid according to **valid_data**   \n",
    "**c) targets**: when the results handling process is done *(step b)* here we define the actual HTML container which will show such results.  \n",
    "\n",
    "As we can see above **targets** points to same container **<header.[[title_val]]>**, such container is also defined in the configuration file as following:\n",
    "```\n",
    "{\n",
    "        \"fields\": [\"EXT-VAL\"],\n",
    "        \"values\": [\"Loading ...\"],\n",
    "        \"id\":[\"title_val\"],\n",
    "        \"classes\": [\"header-title text-success\"],\n",
    "        \"param\":[{'data_param': {'format':'MULTI-VAL'}}],\n",
    "        'transform': [[title_transform]],\n",
    "        'respects':[[not_undefined,not_unknown]]\n",
    "},\n",
    "```\n",
    "**a) EXT-VAL**: specifies the fact that the value contained inside it comes from an external source. (not the inner SPARQL query made).  \n",
    "**b) id**: this id has been used previously when defining the **targets** of the external source calls.  \n",
    "**c) 'format':'MULTI-VAL'**: here we specify how the data will be visualized. A possible option is **MULTI-VAL**. In this case the label will contain all the values retrieved from all the external calls made, and specify behind each value the corresponding resource. In case the values retrieved are equal, this label will contain only one value."
   ]
  },
  {
   "cell_type": "markdown",
   "metadata": {},
   "source": [
    "## LUCINDA and OSCAR adapted to mobile view"
   ]
  },
  {
   "cell_type": "markdown",
   "metadata": {},
   "source": [
    "Both OSCAR and LUCINDA didn't have any style re-adaption when viewing them in smaller screens (mobile screen). I have modified and applied this new feature to both. The hardest part was regard the OSCAR results table: In this case my choice was rebuilding the table by transforming the columns in rows and grouping those belonging to the same resource. \n",
    "The following screenshot is taken when browsing https://opencitations.github.io/lucinda/example/wikidata/browser.html?browse=Q24260641 ."
   ]
  },
  {
   "cell_type": "markdown",
   "metadata": {},
   "source": [
    "<img style=\"\" src=\"img/lucinda_mobile1.png\" width=\"350\"/>\n",
    "<img style=\"\" src=\"img/lucinda_mobile2.png\" width=\"350\"/>"
   ]
  },
  {
   "cell_type": "markdown",
   "metadata": {},
   "source": [
    "## The OpenCitations Bot modified\n",
    "Taking in consideration the limits/problems reported last week [In the previous report](1.html). we have decided to show the list of citations and references as a list of DOIs pointing to their corresponding [doi.org](doi.org). "
   ]
  },
  {
   "cell_type": "markdown",
   "metadata": {},
   "source": [
    "## A COCI Sparql problem\n",
    "\n",
    "When making this call:\n",
    "http://opencitations.net/index/coci/api/v1/citations/10.1108/JD-12-2013-0166\n",
    "we have some results retrieved.\n",
    "\n",
    "On the other hand, this one:\n",
    "```\n",
    "PREFIX cito:<http://purl.org/spar/cito/>\n",
    "SELECT ?my_oci WHERE {\n",
    "        ?my_oci cito:hasCitedEntity <http://dx.doi.org/10.1108/JD-12-2013-0166> .\n",
    "}\n",
    "```\n",
    "When executed on http://opencitations.net/index/coci/sparql , does not.\n",
    "(http://opencitations.net/index/coci/sparql?query=PREFIX+cito%3A%3Chttp%3A%2F%2Fpurl.org%2Fspar%2Fcito%2F%3E%0ASELECT+%3Fmy_oci+WHERE+%7B%0A++++++++%3Fmy_oci+cito%3AhasCitedEntity+%3Chttp%3A%2F%2Fdx.doi.org%2F10.1108%2FJD-12-2013-0166%3E+.%0A%7D)\n",
    "\n",
    "### ASKS (ASK-Silvio):\n",
    "Could it be that the SPARQL endpoint used on http://opencitations.net is different than the one COCI-API service is using ? "
   ]
  },
  {
   "cell_type": "code",
   "execution_count": null,
   "metadata": {},
   "outputs": [],
   "source": []
  }
 ],
 "metadata": {
  "kernelspec": {
   "display_name": "Python 3",
   "language": "python",
   "name": "python3"
  },
  "language_info": {
   "codemirror_mode": {
    "name": "ipython",
    "version": 3
   },
   "file_extension": ".py",
   "mimetype": "text/x-python",
   "name": "python",
   "nbconvert_exporter": "python",
   "pygments_lexer": "ipython3",
   "version": "3.6.5"
  }
 },
 "nbformat": 4,
 "nbformat_minor": 2
}
