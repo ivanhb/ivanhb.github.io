{
 "cells": [
  {
   "cell_type": "markdown",
   "metadata": {},
   "source": [
    "# February 1:\n",
    "---"
   ]
  },
  {
   "cell_type": "markdown",
   "metadata": {},
   "source": [
    "## A Bot for OpenCitations\n",
    "I have worked on building a telegram Bot for OpenCitations in the first 3 days of this week.  \n",
    "There is a new repository for this project into the OpenCitations repo at the following link: https://github.com/opencitations/telegrambot.  \n",
    "This Bot is meant to be used in order to interact with the OpenCitations services. I used CpBoT : a framework I have previously developed to create customisable Bots for telegram, to build the OpenCitations Bot.  \n",
    "Currently, the OpenCitation Bot is running and public, people with telegram account can freely text it at @OpenCitationsBot. \n",
    "\n",
    "Issues regarding this project:  \n",
    "1) The telegram service does not allow a high number of messages to be sent. For a service like OpenCitations, the number of requests could be very high, which will cause major problems.  \n",
    "2) The current version of the python library used for building the Bot sometimes crashes when trying to understand Markdown special characters and when splitting the messages (in case the text is too big to be sent in one message) \n"
   ]
  },
  {
   "cell_type": "markdown",
   "metadata": {},
   "source": [
    "## LUCINDA browsing a DOI\n",
    "I am building a new version of LUCINDA which will allow us to integrate multiple information and data coming from different sources into a one and only resource browsing page. This will include the ability to add also charts as a possible mechanism to view the data."
   ]
  },
  {
   "cell_type": "markdown",
   "metadata": {},
   "source": [
    "<img style=\"float:left\" src=\"img/lucinda_doi.png\" width=\"850\"/>"
   ]
  },
  {
   "cell_type": "markdown",
   "metadata": {},
   "source": [
    "### Multiple sources \n",
    "It’s possible  now to configure LUCINDA to try get same kind of information from multiple sources and decide whether keeping them both or getting the results of the first call which returns non empty values.  \n",
    "For instance, on the above screenshot the title value (‘Nanometre-scale thermometry in a living cell’) is taken from a API call to the COCI dataset and alternatively from Crossref (through its APIs).  \n",
    "\n",
    "### Adding restrictions on the external data\n",
    "Once the external service call return a value we can configure LUCINDA to keep only the data which respects some restrictions.  \n",
    "For instance, on the above screenshot the value of ‘Number of citations in Wikidata:’ will not appear in case the corresponding DOI has not been found in Wikidata."
   ]
  },
  {
   "cell_type": "markdown",
   "metadata": {},
   "source": [
    "## Crowdsourcing open citations with CROCI\n",
    "We are about to send our paper to the [ISSI-2019](http://issi-society.org/news/call-for-papers-next-issi-2019-conference/).  \n",
    "Therefore, we are evaluating (with Silvio and David) and writing a down a final version to send."
   ]
  },
  {
   "cell_type": "code",
   "execution_count": null,
   "metadata": {},
   "outputs": [],
   "source": []
  }
 ],
 "metadata": {
  "kernelspec": {
   "display_name": "Python 3",
   "language": "python",
   "name": "python3"
  },
  "language_info": {
   "codemirror_mode": {
    "name": "ipython",
    "version": 3
   },
   "file_extension": ".py",
   "mimetype": "text/x-python",
   "name": "python",
   "nbconvert_exporter": "python",
   "pygments_lexer": "ipython3",
   "version": "3.6.5"
  }
 },
 "nbformat": 4,
 "nbformat_minor": 2
}
