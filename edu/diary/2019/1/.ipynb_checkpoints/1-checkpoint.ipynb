{
 "cells": [
  {
   "cell_type": "markdown",
   "metadata": {},
   "source": [
    "# January 20:\n",
    "---"
   ]
  },
  {
   "cell_type": "markdown",
   "metadata": {},
   "source": [
    "**Changes and improvements on OSCAR and LUCINDA**\n",
    "* Fixed an Issue regarding the OSCAR menu inside LUCINDA (pointed out by Silvio)\n",
    "* Stylistic adaptions and re-organizations of some Elements (according to some hints given by David)\n",
    "* The addition of Journal/Author Self Citation info, when browsing a COCI Citation through LUCINDA \n",
    "* The addition of a loading label for LUCINDA while building the OSCAR table\n",
    "* Adaptions on LUCINDA on showing the Wikidata Scholarly resources. (Try it on:  https://opencitations.github.io/lucinda/example/wikidata/browser.html?browse=Q24260641)   \n",
    "* Finally I designed two logos 😄: "
   ]
  },
  {
   "cell_type": "markdown",
   "metadata": {},
   "source": [
    "<img style=\"float:left\" src=\"img/oscar_logo.png\" width=\"250\"/><span><img src=\"img/lucinda_logo.png\" width=\"250\"/>"
   ]
  },
  {
   "cell_type": "markdown",
   "metadata": {},
   "source": [
    "**Writing the first draft of my Ph.D. Abstract**  \n",
    "Right now I am writing it on google doc.\n",
    "https://docs.google.com/document/d/1izNYfDKRChrvHkRWYUfgiKP6yGOiz6MCdVSMPOJg_jA/edit?usp=sharing"
   ]
  },
  {
   "cell_type": "markdown",
   "metadata": {},
   "source": [
    "**Completing my profile for the Digital Humanities Advanced Research Centre (DHARC), and studying its related materials**  "
   ]
  },
  {
   "cell_type": "markdown",
   "metadata": {},
   "source": [
    "**The new CROCI project**  \n",
    "Together with Silvio we have discussed a new upcoming project we would like to start and present at ISSI conference in Rome.\n",
    "The main Idea is to show the number of citations covered by OpenCitations in relation to the inaccessible once present in the set of ‘Closed’ citations of Crossref. This well help us build a general view of our current situation and propose additional help from the actual Authors to be able up-come these limitations.   \n",
    "My main contribution to it is regarding the data analysis part. Currently I have created a .pynb file to show the results of the analysis made. https://github.com/ivanhb/croci/blob/master/script/croci_chart.ipynb "
   ]
  },
  {
   "cell_type": "code",
   "execution_count": null,
   "metadata": {},
   "outputs": [],
   "source": []
  }
 ],
 "metadata": {
  "kernelspec": {
   "display_name": "Python 3",
   "language": "python",
   "name": "python3"
  },
  "language_info": {
   "codemirror_mode": {
    "name": "ipython",
    "version": 3
   },
   "file_extension": ".py",
   "mimetype": "text/x-python",
   "name": "python",
   "nbconvert_exporter": "python",
   "pygments_lexer": "ipython3",
   "version": "3.6.5"
  }
 },
 "nbformat": 4,
 "nbformat_minor": 2
}
