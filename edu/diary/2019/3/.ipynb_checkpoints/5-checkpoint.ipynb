{
 "cells": [
  {
   "cell_type": "markdown",
   "metadata": {},
   "source": [
    "# March 29:\n",
    "---"
   ]
  },
  {
   "cell_type": "markdown",
   "metadata": {},
   "source": [
    "## Finalising the OSCAR paper for DataScience\n",
    "* **Error in Figure.4:** The correct url address should be: http://opencitations.net/search?text=shotton&rule=author_text&bc_1=and&text=semantic&rule=any_text&bc_2=or&text=shotton&rule=author_text&bc_3=and&text=open+citations&rule=any_text. This error pointed raised an issue I have added on OSCAR repository regarding the advanced search and the ‘and’, ‘or’, ‘and not’ connectors priorities.\n",
    "\n",
    "* **Wikidata example:** Thanks to Silvio I have fixed an error in 'OSCAR 2.0 with Wikidata’ HTML page. This was regarding the advanced search examples written, since the URLs were pointing to the wrong addresses.(e.g. https://opencitations.github.io/oscar/example/v2/wikidata.html?text=10.1016%2FJ.WEBSEM.2012.08.001&rule=citing_documents&bc_1=and&text=2002&rule=min_year)\n",
    "\n",
    "* **New Issues on OSCAR git repository:** As a result of the previous adjustments 2 more issues have been added to the OSCAR GitHub repository. \n",
    "\n",
    "**The ‘Camera Ready’ version of the paper have been finally submitted** "
   ]
  },
  {
   "cell_type": "markdown",
   "metadata": {},
   "source": [
    "## Submission to the ISWS Summer school\n",
    "As also suggested by Silvio I have sent my application to the [ISWC Bertinoro Summer School](http://stlab.istc.cnr.it/isws/wordpress/), which will start on June 30 to July 6, 2019."
   ]
  },
  {
   "cell_type": "markdown",
   "metadata": {},
   "source": [
    "## OSCAR and LUCINDA Adjustments\n",
    "* I have changed the HTML OSCAR tag attributes definition into “data-*” format. e.g: ```<div class=\"cover __oscar__\" data-type=\"advanced\" data-view=\"rows_per_page export_results sort_results\" data-filter=\"limit_results filter_fields\"></div>```\n",
    "* Added comments and guidelines on the configuration file of LUCINDA \n",
    "* LUCINDA now works for both the COCI and CROCI graphs of the INDEX triplestore. I have decided to integrate both of them in asingle configuration file, the separation will occur through the regex rule.\n",
    "* As OSCAR, now also LUCINDA could be integrated in any web page through a simple, e.g: ```<div class=\"__lucinda__\" data-content=\"header details metrics\"></div>```\n",
    "* A main future work will be migrating OSCAR code into “Classes”, this is especially useful when integrating it in LUCINDA.\n",
    "\n",
    "<img src=\"https://opencitations.github.io/lucinda/doc/gr.png\" width=\"550\">\n",
    "\n",
    "* Currently LUCINDA will browse the COCI an CROCI resources this way: \n",
    "\n",
    "<img src=\"img/lucinda.png\" width=\"950\">"
   ]
  },
  {
   "cell_type": "markdown",
   "metadata": {},
   "source": [
    "## Reviewing my Ph.D. Abstract\n",
    "I have started reviewing the last comments of Silvio on my Ph.D. abstract starting from the first section 'Background and Purpose’. The main Issue here was regarding the second topic I want to analyse “metrics/indicators of scholarly researches”. I have changed this into a general ‘Evaluation’ of the researches, and this aspect will be implicitly analysed and deduced through the developed tools which might highlight meaningful features and give a different perspective of the researches analysed. "
   ]
  },
  {
   "cell_type": "markdown",
   "metadata": {},
   "source": []
  }
 ],
 "metadata": {
  "kernelspec": {
   "display_name": "Python 3",
   "language": "python",
   "name": "python3"
  },
  "language_info": {
   "codemirror_mode": {
    "name": "ipython",
    "version": 3
   },
   "file_extension": ".py",
   "mimetype": "text/x-python",
   "name": "python",
   "nbconvert_exporter": "python",
   "pygments_lexer": "ipython3",
   "version": "3.6.5"
  }
 },
 "nbformat": 4,
 "nbformat_minor": 2
}
