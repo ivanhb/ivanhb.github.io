{
 "cells": [
  {
   "cell_type": "markdown",
   "metadata": {},
   "source": [
    "# March 15:\n",
    "---"
   ]
  },
  {
   "cell_type": "markdown",
   "metadata": {},
   "source": [
    "## OSCAR paper for Data Science\n",
    "After Davids' revision of the paper I have made all the adjustments indicated in the paper.\n",
    "Plus an import Issue raised was regarding the version of OSCAR uploaded to Zenodo, since its description was not correctly linked to our paper, and its title was mentioning 'version 1.0'. The current version in Zenodo is V2.0.0, with DOI = https://doi.org/10.5281/zenodo.2587541  \n",
    "The final revision I made along with the [document reporting the answers to the reviewers comments](https://docs.google.com/document/d/15lZg3QxuJsk-P0oMkvM8ovrOpbJVZMtF4LfvNI4M36Q/edit?usp=sharing), have been sent to Silvio for another revision and conversion into HTML.   \n"
   ]
  },
  {
   "cell_type": "markdown",
   "metadata": {},
   "source": [
    "## COCI paper for ISWC\n",
    "On my last meeting with Silvio we talked about the paper structure we would like to submit for the ISWC2019 conference. The topic will be COCI and the new Citation data model we have introduced inside the OpenCitations project.  \n",
    "The following picture is a sketch of the paper sections and structure:"
   ]
  },
  {
   "cell_type": "markdown",
   "metadata": {},
   "source": [
    "![alt text](img/sketch.jpg)"
   ]
  },
  {
   "cell_type": "markdown",
   "metadata": {},
   "source": [
    "I have started working on this right after our meeting. I just finished writing down all the sections mentioned in the scheme. Some parts still need to be revisionised. We will also need to analyse the log files of OpenCitations in order to write the 'Usage' section.  \n",
    "I am planning to send a first draft of the paper to Silvio on monday.  \n",
    "The .odt file is currently on the git repository at: http://ivanhb.github.io/phd/paper/coci_iswc2019/article/coci_iswc2019.odt"
   ]
  },
  {
   "cell_type": "code",
   "execution_count": null,
   "metadata": {},
   "outputs": [],
   "source": []
  }
 ],
 "metadata": {
  "kernelspec": {
   "display_name": "Python 3",
   "language": "python",
   "name": "python3"
  },
  "language_info": {
   "codemirror_mode": {
    "name": "ipython",
    "version": 3
   },
   "file_extension": ".py",
   "mimetype": "text/x-python",
   "name": "python",
   "nbconvert_exporter": "python",
   "pygments_lexer": "ipython3",
   "version": "3.6.5"
  }
 },
 "nbformat": 4,
 "nbformat_minor": 2
}
