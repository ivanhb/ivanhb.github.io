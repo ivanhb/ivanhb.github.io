{
 "cells": [
  {
   "cell_type": "markdown",
   "metadata": {},
   "source": [
    "# June 28:\n",
    "---"
   ]
  },
  {
   "cell_type": "markdown",
   "metadata": {},
   "source": [
    "# Presenting MITAO on EURAM-2019\n",
    "Together with Paolo Ferri and Luca Pareschi we presented MITAO at EURAM-2019. \n",
    "The session was organised as an interactive workshop, people participating has been asked to install MITAO before coming to the session. \n",
    "Most of the attenders didn’t install the tool before coming to our session, most of the problems were:\n",
    "* Some didn’t know they should be connected to internet while installing\n",
    "* Some didn’t install correctly Python\n",
    "\n",
    "When running the web-tool we have showed the main features of it. The original program was to show all the features of MITAO, but we have noticed a slow progressing, therefore we have decided to limit such program and show the Topic Modelling options provided. Visualisations and filtering have not been taken highly in consideration during the presentation.\n",
    "The final responses were very positive, and many of the attenders expressed high interest in the topics we have presented and in the tool used. \n"
   ]
  }
 ],
 "metadata": {
  "kernelspec": {
   "display_name": "Python 3",
   "language": "python",
   "name": "python3"
  },
  "language_info": {
   "codemirror_mode": {
    "name": "ipython",
    "version": 3
   },
   "file_extension": ".py",
   "mimetype": "text/x-python",
   "name": "python",
   "nbconvert_exporter": "python",
   "pygments_lexer": "ipython3",
   "version": "3.7.3"
  }
 },
 "nbformat": 4,
 "nbformat_minor": 2
}
